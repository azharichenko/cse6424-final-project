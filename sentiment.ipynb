{
 "cells": [
  {
   "cell_type": "code",
   "execution_count": null,
   "id": "ecd946a9",
   "metadata": {},
   "outputs": [],
   "source": [
    "from transformers import pipeline\n",
    "sentiment_pipeline = pipeline(model=\"finiteautomata/bertweet-base-sentiment-analysis\")"
   ]
  },
  {
   "cell_type": "code",
   "execution_count": null,
   "id": "41ec4971",
   "metadata": {},
   "outputs": [],
   "source": [
    "import os\n",
    "\n",
    "dic = {}\n",
    "\n",
    "for file in os.listdir('Marines_2019_Data'):\n",
    "    with open(f'Marines_2019_Data/{file}', 'r', encoding='utf-8') as r:\n",
    "        lines = r.readlines()\n",
    "        dic[file[:8]] = []\n",
    "        for line in lines:\n",
    "            dic[file[:8]].append(line[:-2])"
   ]
  },
  {
   "cell_type": "code",
   "execution_count": null,
   "id": "4ee1a718",
   "metadata": {},
   "outputs": [],
   "source": [
    "for key, lis in dic.items():\n",
    "    for i in lis:\n",
    "        if len(i) > 127 or len(i) <= 0:\n",
    "            lis.remove(i)"
   ]
  },
  {
   "cell_type": "code",
   "execution_count": null,
   "id": "b699ee19",
   "metadata": {},
   "outputs": [],
   "source": [
    "from tqdm import tqdm\n",
    "\n",
    "sent = {}\n",
    "\n",
    "for key, lis in tqdm(dic.items()):\n",
    "    sent[key] = sentiment_pipeline(lis)"
   ]
  },
  {
   "cell_type": "code",
   "execution_count": null,
   "id": "1e28ab0b",
   "metadata": {},
   "outputs": [],
   "source": [
    "sent.keys()"
   ]
  },
  {
   "cell_type": "code",
   "execution_count": null,
   "id": "818bf80d",
   "metadata": {},
   "outputs": [],
   "source": [
    "export = []\n",
    "\n",
    "for key, lis in sent.items():\n",
    "    for i in lis:\n",
    "        for k, v in i.items():\n",
    "            export.append([key, v])"
   ]
  },
  {
   "cell_type": "code",
   "execution_count": null,
   "id": "0ee02eac",
   "metadata": {},
   "outputs": [],
   "source": [
    "len(export)"
   ]
  },
  {
   "cell_type": "code",
   "execution_count": null,
   "id": "a461a35c",
   "metadata": {},
   "outputs": [],
   "source": [
    "final = []\n",
    "\n",
    "count = 0\n",
    "for i in export:\n",
    "    if 'N' or 'P' in i[1]:\n",
    "        idx = count + 1\n",
    "        try:\n",
    "            tup = (i[0], i[1], export[idx][1])\n",
    "            final.append(tup)\n",
    "        except:\n",
    "            continue\n",
    "    count += 1"
   ]
  },
  {
   "cell_type": "code",
   "execution_count": null,
   "id": "cabd9c21",
   "metadata": {},
   "outputs": [],
   "source": [
    "kill_me = []\n",
    "\n",
    "num = 1\n",
    "\n",
    "for i in final:\n",
    "    if num % 2 != 0:\n",
    "        kill_me.append(i)\n",
    "    num += 1"
   ]
  },
  {
   "cell_type": "code",
   "execution_count": null,
   "id": "0b01e378",
   "metadata": {},
   "outputs": [],
   "source": [
    "import csv\n",
    "\n",
    "with open('2019_Marines.csv', 'w') as out:\n",
    "    csv_out = csv.writer(out)\n",
    "    for row in kill_me:\n",
    "        csv_out.writerow(row)"
   ]
  },
  {
   "cell_type": "code",
   "execution_count": null,
   "id": "772a6089",
   "metadata": {},
   "outputs": [],
   "source": [
    "_2019_dic = {}\n",
    "\n",
    "for file in os.listdir('2019_Data'):\n",
    "    with open(f'2019_Data/{file}', 'r', encoding='utf-8') as r:\n",
    "        lines = r.readlines()\n",
    "        _2019_dic[file[:8]] = []\n",
    "        for line in lines:\n",
    "            _2019_dic[file[:8]].append(line[:-2])"
   ]
  },
  {
   "cell_type": "code",
   "execution_count": null,
   "id": "0e058e63",
   "metadata": {},
   "outputs": [],
   "source": [
    "_2019_sent = {}\n",
    "\n",
    "for key, lis in _2019_dic.items():\n",
    "    try:\n",
    "        _2019_sent[key] = sentiment_pipeline(lis)\n",
    "    except:\n",
    "        print('uh oh')\n",
    "        continue"
   ]
  },
  {
   "cell_type": "code",
   "execution_count": null,
   "id": "6e6f9abc",
   "metadata": {},
   "outputs": [],
   "source": [
    "_2020_dic = {}\n",
    "\n",
    "for file in os.listdir('2020_Data'):\n",
    "    with open(f'2020_Data/{file}', 'r', encoding='utf-8') as r:\n",
    "        lines = r.readlines()\n",
    "        _2020_dic[file[:8]] = []\n",
    "        for line in lines:\n",
    "            _2020_dic[file[:8]].append(line[:-2])\n",
    "            \n",
    "_2020_sent = {}\n",
    "\n",
    "for key, lis in _2020_dic.items():\n",
    "    try:\n",
    "        _2020_sent[key] = sentiment_pipeline(lis)\n",
    "    except:\n",
    "        print('uh oh')\n",
    "        continue"
   ]
  },
  {
   "cell_type": "code",
   "execution_count": null,
   "id": "4240c7e6",
   "metadata": {},
   "outputs": [],
   "source": [
    "_2021_dic = {}\n",
    "\n",
    "for file in os.listdir('2021_Data'):\n",
    "    with open(f'2021_Data/{file}', 'r', encoding='utf-8') as r:\n",
    "        lines = r.readlines()\n",
    "        _2021_dic[file[:8]] = []\n",
    "        for line in lines:\n",
    "            _2021_dic[file[:8]].append(line[:-2])\n",
    "            \n",
    "_2021_sent = {}\n",
    "\n",
    "for key, lis in _2021_dic.items():\n",
    "    try:\n",
    "        _2021_sent[key] = sentiment_pipeline(lis)\n",
    "    except:\n",
    "        print('uh oh')\n",
    "        continue"
   ]
  },
  {
   "cell_type": "code",
   "execution_count": null,
   "id": "b9303209",
   "metadata": {},
   "outputs": [],
   "source": []
  }
 ],
 "metadata": {
  "kernelspec": {
   "display_name": "Python 3 (ipykernel)",
   "language": "python",
   "name": "python3"
  },
  "language_info": {
   "codemirror_mode": {
    "name": "ipython",
    "version": 3
   },
   "file_extension": ".py",
   "mimetype": "text/x-python",
   "name": "python",
   "nbconvert_exporter": "python",
   "pygments_lexer": "ipython3",
   "version": "3.10.4"
  }
 },
 "nbformat": 4,
 "nbformat_minor": 5
}
