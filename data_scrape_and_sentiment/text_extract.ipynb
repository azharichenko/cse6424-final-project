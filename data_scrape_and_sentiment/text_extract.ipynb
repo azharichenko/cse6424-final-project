{
 "cells": [
  {
   "cell_type": "markdown",
   "id": "7f648f25",
   "metadata": {},
   "source": [
    "# Pushshift"
   ]
  },
  {
   "cell_type": "code",
   "execution_count": null,
   "id": "f9ec6671",
   "metadata": {},
   "outputs": [],
   "source": [
    "import pandas as pd\n",
    "import requests\n",
    "import json\n",
    "import csv\n",
    "import time\n",
    "import datetime"
   ]
  },
  {
   "cell_type": "code",
   "execution_count": null,
   "id": "2f5c4656",
   "metadata": {},
   "outputs": [],
   "source": [
    "def getPushshiftData(query, after, before, sub):\n",
    "    url = 'https://api.pushshift.io/reddit/search/submission/?title='+str(query)+'&size=1000&after='+str(after)+'&before='+str(before)+'&subreddit='+str(sub)\n",
    "    #print(url)\n",
    "    r = requests.get(url)\n",
    "    data = json.loads(r.text)\n",
    "    return data['data']"
   ]
  },
  {
   "cell_type": "code",
   "execution_count": null,
   "id": "d5eac935",
   "metadata": {},
   "outputs": [],
   "source": [
    "#This function will be used to extract the key data points from each JSON result\n",
    "def collectSubData(subm):\n",
    "    #subData was created at the start to hold all the data which is then added to our global subStats dictionary.\n",
    "    subData = list() #list to store data points\n",
    "    title = subm['title']\n",
    "    url = subm['url']\n",
    "    #flairs are not always present so we wrap in try/except\n",
    "    try:\n",
    "        flair = subm['link_flair_text']\n",
    "    except KeyError:\n",
    "        flair = \"NaN\"    \n",
    "    author = subm['author']\n",
    "    sub_id = subm['id']\n",
    "    score = subm['score']\n",
    "    created = datetime.datetime.fromtimestamp(subm['created_utc']) #1520561700.0\n",
    "    numComms = subm['num_comments']\n",
    "    permalink = subm['permalink']\n",
    "\n",
    "    #Put all data points into a tuple and append to subData\n",
    "    subData.append((sub_id,title,url,author,score,created,numComms,permalink,flair))\n",
    "    #Create a dictionary entry of current submission data and store all data related to it\n",
    "    subStats[sub_id] = subData"
   ]
  },
  {
   "cell_type": "code",
   "execution_count": null,
   "id": "477ca869",
   "metadata": {},
   "outputs": [],
   "source": [
    "query = \"\" #Keyword(s) to look for in submissions\n",
    "sub = \"usmc\" #Which Subreddit to search in"
   ]
  },
  {
   "cell_type": "code",
   "execution_count": null,
   "id": "d0b3bb17",
   "metadata": {},
   "outputs": [],
   "source": [
    "dic = {'Jan': ['1514782800', '1517461200'], 'Feb': ['1517461201', '1519880400'], \n",
    "      'Mar': ['1519880401', '1522555200'], 'Apr': ['1522555201', '1525147200'],\n",
    "      'May': ['1525147201', '1527825600'], 'Jun': ['1527825601', '1530417600'],\n",
    "      'Jul': ['1530417601', '1533096000'], 'Aug': ['1533096001', '1535774400'],\n",
    "      'Sep': ['1535774401', '1538366400'], 'Oct': ['1538366401', '1541044800'],\n",
    "      'Nov': ['1541044801', '1543640400'], 'Dec': ['1543640401', '1546318800']}"
   ]
  },
  {
   "cell_type": "code",
   "execution_count": null,
   "id": "94343d80",
   "metadata": {},
   "outputs": [],
   "source": [
    "from tqdm import tqdm\n",
    "\n",
    "\n",
    "#subCount tracks the no. of total submissions we collect\n",
    "subCount = 0\n",
    "#subStats is the dictionary where we will store our data.\n",
    "subStats = {}\n",
    "after = dic['Dec'][0]\n",
    "before = dic['Dec'][1]\n",
    "# We need to run this function outside the loop first to get the updated after variable\n",
    "data = getPushshiftData(query, after, before, sub)\n",
    "# Will run until all posts have been gathered i.e. When the length of data variable = 0\n",
    "# from the 'after' date up until before date\n",
    "while len(data) > 0: #The length of data is the number submissions (data[0], data[1] etc), once it hits zero (after and before vars are the same) end\n",
    "    for submission in data:\n",
    "        try:\n",
    "            collectSubData(submission)\n",
    "            subCount+=1\n",
    "        except:\n",
    "            continue\n",
    "    # Calls getPushshiftData() with the created date of the last submission\n",
    "    #update after variable to last created date of submission\n",
    "    after = data[-1]['created_utc']\n",
    "    #data has changed due to the new after variable provided by above code\n",
    "    try:\n",
    "        data = getPushshiftData(query, after, before, sub)\n",
    "    except:\n",
    "        break\n",
    "\n",
    "count = 0\n",
    "with open(f'Dec_2018_posts.txt', 'w', encoding=\"utf-8\") as w:\n",
    "    for i in tqdm(list(subStats.values())):\n",
    "        count += 1\n",
    "        w.write(f'{i[0][1]} \\n')\n",
    "print(f'{count} examples written')"
   ]
  },
  {
   "cell_type": "code",
   "execution_count": null,
   "id": "ae31e9c0",
   "metadata": {},
   "outputs": [],
   "source": []
  }
 ],
 "metadata": {
  "kernelspec": {
   "display_name": "Python 3.10.2 ('cs6424-project-oNFs5GAT')",
   "language": "python",
   "name": "python3"
  },
  "language_info": {
   "codemirror_mode": {
    "name": "ipython",
    "version": 3
   },
   "file_extension": ".py",
   "mimetype": "text/x-python",
   "name": "python",
   "nbconvert_exporter": "python",
   "pygments_lexer": "ipython3",
   "version": "3.10.2"
  },
  "vscode": {
   "interpreter": {
    "hash": "563680793a5e90791d9755480d0f5105dfecc71ddfca17796fa878b0a69540b2"
   }
  }
 },
 "nbformat": 4,
 "nbformat_minor": 5
}
